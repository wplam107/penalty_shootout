{
 "cells": [
  {
   "cell_type": "markdown",
   "id": "f90a9351",
   "metadata": {},
   "source": [
    "# Web Scraping Notebook"
   ]
  },
  {
   "cell_type": "markdown",
   "id": "b6ab3c88",
   "metadata": {},
   "source": [
    "## Scraping the transfermarkt.com Website\n",
    "Scraping [transfermarkt.com](https://www.transfermarkt.com/) for penalty shootouts in major tournaments. The website was utilized as the databases includes player profiles (age, team, market value, etc.) for each season.\n",
    "\n",
    "**Major tournaments:**\n",
    "- **European Championship** *aka Euro Cup*\n",
    "- **South American Championship** *aka Copa America*\n",
    "- **Champions League/European Cup**\n",
    "- **Europa League/UEFA Cup**"
   ]
  },
  {
   "cell_type": "code",
   "execution_count": 114,
   "id": "237c5575",
   "metadata": {
    "ExecuteTime": {
     "end_time": "2021-07-12T21:57:10.793968Z",
     "start_time": "2021-07-12T21:57:10.783048Z"
    }
   },
   "outputs": [],
   "source": [
    "import requests\n",
    "from bs4 import BeautifulSoup"
   ]
  },
  {
   "cell_type": "code",
   "execution_count": 41,
   "id": "27fafa15",
   "metadata": {
    "ExecuteTime": {
     "end_time": "2021-07-12T20:36:49.933996Z",
     "start_time": "2021-07-12T20:36:49.929464Z"
    }
   },
   "outputs": [],
   "source": [
    "def get_soup(url):\n",
    "    '''\n",
    "    Function to request a web page and return a Beautiful Soup object\n",
    "    '''\n",
    "    \n",
    "    headers = {\n",
    "        'User-Agent': 'Mozilla/5.0 (Macintosh; Intel Mac OS X 10_15_7) AppleWebKit/537.36 (KHTML, like Gecko) Chrome/91.0.4472.114 Safari/537.36'\n",
    "    }\n",
    "    \n",
    "    page = requests.get(url, headers=headers)\n",
    "    soup = BeautifulSoup(page.content, 'html.parser')\n",
    "    \n",
    "    return soup"
   ]
  },
  {
   "cell_type": "markdown",
   "id": "768dad82",
   "metadata": {},
   "source": [
    "## Game page"
   ]
  },
  {
   "cell_type": "code",
   "execution_count": 171,
   "id": "ad3a73c3",
   "metadata": {
    "ExecuteTime": {
     "end_time": "2021-07-12T22:38:26.889980Z",
     "start_time": "2021-07-12T22:38:25.772952Z"
    }
   },
   "outputs": [],
   "source": [
    "# Sample game page\n",
    "url = 'https://www.transfermarkt.com/spielbericht/index/spielbericht/3605575'\n",
    "soup = get_soup(url)"
   ]
  },
  {
   "cell_type": "code",
   "execution_count": 182,
   "id": "1e9b1205",
   "metadata": {
    "ExecuteTime": {
     "end_time": "2021-07-12T22:40:43.400899Z",
     "start_time": "2021-07-12T22:40:43.391741Z"
    }
   },
   "outputs": [],
   "source": [
    "def get_match_data(soup):\n",
    "    '''\n",
    "    Function to retrieve general match data\n",
    "    '''\n",
    "    \n",
    "    # Home and away teams\n",
    "    home_team = soup.find(attrs={'class': 'sb-team sb-heim'}).find('img')['alt']\n",
    "    away_team = soup.find(attrs={'class': 'sb-team sb-gast'}).find('img')['alt']\n",
    "\n",
    "    # Stadium link\n",
    "    stad = soup.find(attrs={'class': 'sb-zusatzinfos'}).find('a')\n",
    "    stad_link = stad['href']\n",
    "\n",
    "    # Stadium page soup\n",
    "    base_url = 'https://www.transfermarkt.us'\n",
    "    stad_soup = get_soup(base_url + stad_link)\n",
    "    \n",
    "    # Stadium home team\n",
    "    stad_home = stad_soup.find(attrs={'itemprop': 'name'}).find('span').text\n",
    "    \n",
    "    # Stadium address\n",
    "    tds = stad_soup.find_all('table')[1].find_all('td')[:4]\n",
    "    address = [ td.text.replace(u'\\xa0', u' ') for td in tds ]\n",
    "    \n",
    "    # Neutral venue\n",
    "    if (home_team == stad_home) or (home_team in address):\n",
    "        neutral = 'False'\n",
    "        true_home = home_team\n",
    "    elif (away_team == stad_home) or (away_team in address):\n",
    "        neutral = 'False'\n",
    "        true_home = away_team\n",
    "    else:\n",
    "        neutral = 'True'\n",
    "        true_home = stad_home\n",
    "        \n",
    "    # Match date\n",
    "    match_date = soup.find(attrs={'sb-spieldaten'}).find('a')['href'][-10:]\n",
    "    \n",
    "    return home_team, away_team, neutral, true_home, match_date"
   ]
  },
  {
   "cell_type": "code",
   "execution_count": 184,
   "id": "c1bd11f4",
   "metadata": {
    "ExecuteTime": {
     "end_time": "2021-07-12T22:40:47.420337Z",
     "start_time": "2021-07-12T22:40:47.415465Z"
    }
   },
   "outputs": [
    {
     "name": "stdout",
     "output_type": "stream",
     "text": [
      "Home Team: Italy\n",
      "Away Team: England\n",
      "Neutral Venue: False\n",
      "True Home: England\n",
      "Match Date: 2021-07-11\n"
     ]
    }
   ],
   "source": [
    "home_team, away_team, neutral, true_home, match_date = get_match_data(soup)\n",
    "\n",
    "print('Home Team:', home_team)\n",
    "print('Away Team:', away_team)\n",
    "print('Neutral Venue:', neutral)\n",
    "print('True Home:', true_home)\n",
    "print('Match Date:', match_date)"
   ]
  },
  {
   "cell_type": "code",
   "execution_count": 47,
   "id": "2028240e",
   "metadata": {
    "ExecuteTime": {
     "end_time": "2021-07-12T20:44:28.178668Z",
     "start_time": "2021-07-12T20:44:27.397068Z"
    }
   },
   "outputs": [],
   "source": [
    "# Penalty shootout section of game page\n",
    "shootout = soup.find(attrs={'id': 'sb-elfmeterscheissen'}).find('ul')\n",
    "\n",
    "# Home and away shots\n",
    "home = shootout.find_all(attrs={'class': 'sb-aktion-heim'})\n",
    "away = shootout.find_all(attrs={'class': 'sb-aktion-gast'})"
   ]
  },
  {
   "cell_type": "code",
   "execution_count": 139,
   "id": "3f18951b",
   "metadata": {
    "ExecuteTime": {
     "end_time": "2021-07-12T22:16:18.055057Z",
     "start_time": "2021-07-12T22:16:18.042315Z"
    }
   },
   "outputs": [],
   "source": [
    "def get_shot_data(shot):\n",
    "    result = shot.find('span')['title']\n",
    "    player = shot.find('img')['title']\n",
    "    \n",
    "    return result, player"
   ]
  },
  {
   "cell_type": "code",
   "execution_count": null,
   "id": "73f2b09b",
   "metadata": {},
   "outputs": [],
   "source": []
  }
 ],
 "metadata": {
  "kernelspec": {
   "display_name": "data-scrape",
   "language": "python",
   "name": "data-scrape"
  },
  "language_info": {
   "codemirror_mode": {
    "name": "ipython",
    "version": 3
   },
   "file_extension": ".py",
   "mimetype": "text/x-python",
   "name": "python",
   "nbconvert_exporter": "python",
   "pygments_lexer": "ipython3",
   "version": "3.9.2"
  },
  "toc": {
   "base_numbering": 1,
   "nav_menu": {},
   "number_sections": false,
   "sideBar": true,
   "skip_h1_title": false,
   "title_cell": "Table of Contents",
   "title_sidebar": "Contents",
   "toc_cell": false,
   "toc_position": {},
   "toc_section_display": true,
   "toc_window_display": true
  }
 },
 "nbformat": 4,
 "nbformat_minor": 5
}
