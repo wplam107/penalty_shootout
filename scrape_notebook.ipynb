{
 "cells": [
  {
   "cell_type": "markdown",
   "id": "7f16b78c",
   "metadata": {},
   "source": [
    "# Web Scraping Notebook"
   ]
  },
  {
   "cell_type": "markdown",
   "id": "eda9c4f8",
   "metadata": {},
   "source": [
    "## Scraping the transfermarkt.com Website\n",
    "Scraping [transfermarkt.com](https://www.transfermarkt.com/) for penalty shootouts in major tournaments. The website was utilized as the databases includes player profiles (age, team, market value, etc.) for each season.\n",
    "\n",
    "**Major tournaments:**\n",
    "- **European Championship** *aka Euro Cup*\n",
    "- **South American Championship** *aka Copa America*\n",
    "- **Champions League/European Cup**\n",
    "- **Europa League/UEFA Cup**"
   ]
  },
  {
   "cell_type": "code",
   "execution_count": 1,
   "id": "2e283d8b",
   "metadata": {
    "ExecuteTime": {
     "end_time": "2021-07-13T21:38:39.532100Z",
     "start_time": "2021-07-13T21:38:39.320190Z"
    }
   },
   "outputs": [],
   "source": [
    "import requests\n",
    "import re\n",
    "from bs4 import BeautifulSoup"
   ]
  },
  {
   "cell_type": "code",
   "execution_count": 2,
   "id": "a3c50366",
   "metadata": {
    "ExecuteTime": {
     "end_time": "2021-07-13T21:38:39.750385Z",
     "start_time": "2021-07-13T21:38:39.745934Z"
    }
   },
   "outputs": [],
   "source": [
    "def get_soup(url):\n",
    "    '''\n",
    "    Function to request a web page and return a Beautiful Soup object\n",
    "    '''\n",
    "    \n",
    "    headers = {\n",
    "        'User-Agent': 'Mozilla/5.0 (Macintosh; Intel Mac OS X 10_15_7) AppleWebKit/537.36 (KHTML, like Gecko) Chrome/91.0.4472.114 Safari/537.36'\n",
    "    }\n",
    "    \n",
    "    page = requests.get(url, headers=headers)\n",
    "    soup = BeautifulSoup(page.content, 'html.parser')\n",
    "    \n",
    "    return soup"
   ]
  },
  {
   "cell_type": "markdown",
   "id": "9d81f8a4",
   "metadata": {},
   "source": [
    "## Scraping game page"
   ]
  },
  {
   "cell_type": "code",
   "execution_count": 3,
   "id": "4cd66c1a",
   "metadata": {
    "ExecuteTime": {
     "end_time": "2021-07-13T21:38:41.927234Z",
     "start_time": "2021-07-13T21:38:40.976310Z"
    }
   },
   "outputs": [],
   "source": [
    "# Sample game page\n",
    "url = 'https://www.transfermarkt.com/spielbericht/index/spielbericht/3605575'\n",
    "soup = get_soup(url)"
   ]
  },
  {
   "cell_type": "markdown",
   "id": "56acc82d",
   "metadata": {},
   "source": [
    "### General match data"
   ]
  },
  {
   "cell_type": "code",
   "execution_count": 4,
   "id": "48ca70a6",
   "metadata": {
    "ExecuteTime": {
     "end_time": "2021-07-13T21:38:42.458713Z",
     "start_time": "2021-07-13T21:38:42.448439Z"
    }
   },
   "outputs": [],
   "source": [
    "def get_match_data(soup):\n",
    "    '''\n",
    "    Function to retrieve general match data\n",
    "    '''\n",
    "    \n",
    "    # Home and away teams\n",
    "    home_team = soup.find(attrs={'class': 'sb-team sb-heim'}).find('img')['alt']\n",
    "    away_team = soup.find(attrs={'class': 'sb-team sb-gast'}).find('img')['alt']\n",
    "\n",
    "    # Stadium info\n",
    "    stad = soup.find(attrs={'class': 'sb-zusatzinfos'}).find('a')\n",
    "    stad_link = stad['href']\n",
    "    base_url = 'https://www.transfermarkt.com'\n",
    "    stad_soup = get_soup(base_url + stad_link)\n",
    "    try:\n",
    "        stad_home = stad_soup.find(attrs={'itemprop': 'name'}).find('span').text\n",
    "    except:\n",
    "        stad_home = 'none'\n",
    "    try:\n",
    "        tds = stad_soup.find_all('table')[1].find_all('td')[:4]\n",
    "        address = [ td.text.replace(u'\\xa0', u' ') for td in tds ]\n",
    "    except:\n",
    "        address = []\n",
    "    \n",
    "    # Neutral venue\n",
    "    if (home_team == stad_home) or (home_team in address):\n",
    "        neutral = 'False'\n",
    "        true_home = home_team\n",
    "    elif (away_team == stad_home) or (away_team in address):\n",
    "        neutral = 'False'\n",
    "        true_home = away_team\n",
    "    else:\n",
    "        neutral = 'True'\n",
    "        true_home = stad_home\n",
    "        \n",
    "    # Match date\n",
    "    match_date = soup.find(attrs={'sb-spieldaten'}).find('a')['href'][-10:]\n",
    "    \n",
    "    return {\n",
    "        'home_team': home_team,\n",
    "        'away_team': away_team,\n",
    "        'neutral': neutral,\n",
    "        'true_home': true_home,\n",
    "        'match_date': match_date\n",
    "    }"
   ]
  },
  {
   "cell_type": "code",
   "execution_count": 5,
   "id": "94b93469",
   "metadata": {
    "ExecuteTime": {
     "end_time": "2021-07-13T21:38:43.911416Z",
     "start_time": "2021-07-13T21:38:43.240614Z"
    }
   },
   "outputs": [
    {
     "data": {
      "text/plain": [
       "{'home_team': 'Italy',\n",
       " 'away_team': 'England',\n",
       " 'neutral': 'False',\n",
       " 'true_home': 'England',\n",
       " 'match_date': '2021-07-11'}"
      ]
     },
     "execution_count": 5,
     "metadata": {},
     "output_type": "execute_result"
    }
   ],
   "source": [
    "get_match_data(soup)"
   ]
  },
  {
   "cell_type": "markdown",
   "id": "639f789a",
   "metadata": {},
   "source": [
    "### Penalty shootout data"
   ]
  },
  {
   "cell_type": "code",
   "execution_count": 6,
   "id": "162a4685",
   "metadata": {
    "ExecuteTime": {
     "end_time": "2021-07-13T21:38:45.113882Z",
     "start_time": "2021-07-13T21:38:45.104417Z"
    }
   },
   "outputs": [],
   "source": [
    "def get_penalty_so(soup):\n",
    "    '''\n",
    "    Function to retrieve penalty shootout data\n",
    "    '''\n",
    "    \n",
    "    try:\n",
    "        # Penalty shootout section of game page\n",
    "        shot_list = soup.find(attrs={'id': 'sb-elfmeterscheissen'}).find('ul').find_all('li')\n",
    "\n",
    "        shootout = []\n",
    "        home = 0\n",
    "        away = 0\n",
    "        for shot in shot_list:\n",
    "            result = shot.find('span')['title']\n",
    "            player = shot.find(attrs={'class': 'sb-aktion-aktion'}).find('a')\n",
    "            p_name = player['title']\n",
    "            p_href = player['href']\n",
    "            if shot['class'][0] == 'sb-aktion-heim':\n",
    "                team = 'home'\n",
    "                if result == 'Scored':\n",
    "                    home += 1\n",
    "            else:\n",
    "                team = 'away'\n",
    "                if result == 'Scored':\n",
    "                    away += 1\n",
    "\n",
    "            shootout.append({'team': team, 'result': result, 'player': p_name, 'player_href': p_href})\n",
    "    except:\n",
    "        # Missing shootout section\n",
    "        result = soup.find(attrs={'class': 'sb-endstand'}).text.strip().split(':')\n",
    "        home = int(re.search(r'[\\d]*', result[0])[0])\n",
    "        away = int(re.search(r'[\\d]*', result[1])[0])\n",
    "        shootout = []\n",
    "        \n",
    "    if home > away:\n",
    "        winner = 'home'\n",
    "    else:\n",
    "        winner = 'away'\n",
    "\n",
    "    return {\n",
    "        'winner': winner,\n",
    "        'shootout': shootout\n",
    "    }"
   ]
  },
  {
   "cell_type": "code",
   "execution_count": 7,
   "id": "38cbd3c3",
   "metadata": {
    "ExecuteTime": {
     "end_time": "2021-07-13T21:38:45.941127Z",
     "start_time": "2021-07-13T21:38:45.928254Z"
    }
   },
   "outputs": [
    {
     "name": "stdout",
     "output_type": "stream",
     "text": [
      "{'winner': 'home', 'shootout': [{'team': 'home', 'result': 'Scored', 'player': 'Domenico Berardi', 'player_href': '/domenico-berardi/leistungsdatendetails/spieler/177843/saison/2020/wettbewerb/EM20'}, {'team': 'away', 'result': 'Scored', 'player': 'Harry Kane', 'player_href': '/harry-kane/leistungsdatendetails/spieler/132098/saison/2020/wettbewerb/EM20'}, {'team': 'home', 'result': 'Saved', 'player': 'Andrea Belotti', 'player_href': '/andrea-belotti/leistungsdatendetails/spieler/167727/saison/2020/wettbewerb/EM20'}, {'team': 'away', 'result': 'Scored', 'player': 'Harry Maguire', 'player_href': '/harry-maguire/leistungsdatendetails/spieler/177907/saison/2020/wettbewerb/EM20'}, {'team': 'home', 'result': 'Scored', 'player': 'Leonardo Bonucci', 'player_href': '/leonardo-bonucci/leistungsdatendetails/spieler/39983/saison/2020/wettbewerb/EM20'}, {'team': 'away', 'result': 'Missed', 'player': 'Marcus Rashford', 'player_href': '/marcus-rashford/leistungsdatendetails/spieler/258923/saison/2020/wettbewerb/EM20'}, {'team': 'home', 'result': 'Scored', 'player': 'Federico Bernardeschi', 'player_href': '/federico-bernardeschi/leistungsdatendetails/spieler/197300/saison/2020/wettbewerb/EM20'}, {'team': 'away', 'result': 'Saved', 'player': 'Jadon Sancho', 'player_href': '/jadon-sancho/leistungsdatendetails/spieler/401173/saison/2020/wettbewerb/EM20'}, {'team': 'home', 'result': 'Saved', 'player': 'Jorginho', 'player_href': '/jorginho/leistungsdatendetails/spieler/102017/saison/2020/wettbewerb/EM20'}, {'team': 'away', 'result': 'Saved', 'player': 'Bukayo Saka', 'player_href': '/bukayo-saka/leistungsdatendetails/spieler/433177/saison/2020/wettbewerb/EM20'}]}\n"
     ]
    }
   ],
   "source": [
    "shootout = get_penalty_so(soup)\n",
    "print(shootout)"
   ]
  },
  {
   "cell_type": "markdown",
   "id": "b6cb61dd",
   "metadata": {},
   "source": [
    "### Substitution data\n",
    "Numerical representation of the match clock for match events is not utilized for the website. Instead, position on a timeline is used.\n",
    "\n",
    "Example:\n",
    "![](imgs/timeline.png)"
   ]
  },
  {
   "cell_type": "code",
   "execution_count": 8,
   "id": "8be3206b",
   "metadata": {
    "ExecuteTime": {
     "end_time": "2021-07-13T21:38:51.428507Z",
     "start_time": "2021-07-13T21:38:51.416337Z"
    }
   },
   "outputs": [],
   "source": [
    "def get_subs(soup):\n",
    "    '''\n",
    "    Function to get subs\n",
    "    '''\n",
    "    \n",
    "    # Subs from timeline section of page\n",
    "    home_subs = soup.find(attrs={'class': 'sb-leiste-heim'}).find_all(attrs={'class': 'sb-wechsel'})\n",
    "    away_subs = soup.find(attrs={'class': 'sb-leiste-gast'}).find_all(attrs={'class': 'sb-wechsel'})\n",
    "    \n",
    "    # Home subs\n",
    "    home_times = []\n",
    "    for sub in home_subs:\n",
    "        # Extract position from style section of element\n",
    "        text = sub.parent['style']\n",
    "        num = float(re.search(r'(?<=t: )(.*)(?=%; )', text)[0]) / 100\n",
    "        \n",
    "        # Convert to time in minutes\n",
    "        time = round(num * 120)\n",
    "        home_times.append(time)\n",
    "    \n",
    "    # Away subs\n",
    "    away_times = []\n",
    "    for sub in away_subs:\n",
    "        # Extract position from style section of element\n",
    "        text = sub.parent['style']\n",
    "        num = float(re.search(r'(?<=t: )(.*)(?=%; )', text)[0]) / 100\n",
    "        \n",
    "        # Convert to time in minutes\n",
    "        time = round(num * 120)\n",
    "        away_times.append(time)\n",
    "        \n",
    "    # Find corresponding players in substitution section of page\n",
    "    actions = soup.find(attrs={'id': 'sb-wechsel'}).find('ul')\n",
    "    h_subs = actions.find_all(attrs={'class': 'sb-aktion-heim'})\n",
    "    a_subs = actions.find_all(attrs={'class': 'sb-aktion-gast'})\n",
    "    \n",
    "    subs_list = []\n",
    "    # Home\n",
    "    for i, sub in enumerate(h_subs):\n",
    "        try:\n",
    "            player = sub.find(attrs={'class': 'sb-aktion-wechsel-ein'}).find('a')['title']\n",
    "            play_time = 120 - home_times[i] # If subbed out then player will not be needed\n",
    "            p_dict = {'player': player, 'time': play_time, 'team': 'home'}\n",
    "        except:\n",
    "            p_dict = {'player': 'none', 'time': 'none', 'team': 'home'}\n",
    "        subs_list.append(p_dict)\n",
    "    # Away\n",
    "    for i, sub in enumerate(a_subs):\n",
    "        try:\n",
    "            player = sub.find(attrs={'class': 'sb-aktion-wechsel-ein'}).find('a')['title']\n",
    "            play_time = 120 - away_times[i] # If subbed out the player will not be needed\n",
    "            p_dict = {'player': player, 'time': play_time, 'team': 'away'}\n",
    "        except:\n",
    "            p_dict = {'player': 'none', 'time': 'none', 'team': 'away'}\n",
    "        subs_list.append(p_dict)\n",
    "        \n",
    "    return subs_list"
   ]
  },
  {
   "cell_type": "code",
   "execution_count": 9,
   "id": "de62eb52",
   "metadata": {
    "ExecuteTime": {
     "end_time": "2021-07-13T21:38:53.333600Z",
     "start_time": "2021-07-13T21:38:53.304262Z"
    }
   },
   "outputs": [
    {
     "data": {
      "text/plain": [
       "[{'player': 'Bryan Cristante', 'time': 66, 'team': 'home'},\n",
       " {'player': 'Domenico Berardi', 'time': 65, 'team': 'home'},\n",
       " {'player': 'Federico Bernardeschi', 'time': 34, 'team': 'home'},\n",
       " {'player': 'Andrea Belotti', 'time': 29, 'team': 'home'},\n",
       " {'player': 'Manuel Locatelli', 'time': 24, 'team': 'home'},\n",
       " {'player': 'Alessandro Florenzi', 'time': 2, 'team': 'home'},\n",
       " {'player': 'Bukayo Saka', 'time': 49, 'team': 'away'},\n",
       " {'player': 'Jordan Henderson', 'time': 46, 'team': 'away'},\n",
       " {'player': 'Jack Grealish', 'time': 21, 'team': 'away'},\n",
       " {'player': 'Marcus Rashford', 'time': 0, 'team': 'away'},\n",
       " {'player': 'Jadon Sancho', 'time': 0, 'team': 'away'}]"
      ]
     },
     "execution_count": 9,
     "metadata": {},
     "output_type": "execute_result"
    }
   ],
   "source": [
    "# Note: Jordan Henderson was subbed out before fulltime and subsequently did not take a penalty\n",
    "subs = get_subs(soup)\n",
    "subs"
   ]
  },
  {
   "cell_type": "code",
   "execution_count": 11,
   "id": "301e37b0",
   "metadata": {
    "ExecuteTime": {
     "end_time": "2021-07-13T21:39:26.276933Z",
     "start_time": "2021-07-13T21:39:26.271513Z"
    }
   },
   "outputs": [],
   "source": [
    "def get_match(soup):\n",
    "    \n",
    "    match = get_match_data(soup)\n",
    "    shootout = get_penalty_so(soup)\n",
    "    subs = get_subs(soup)\n",
    "\n",
    "    # Append time played to players in shootout (excludes end of period added time)\n",
    "    for player in shootout['shootout']:\n",
    "        player['time_played'] = 120\n",
    "        # Ensure same name but different team player not used\n",
    "        for sub in subs:\n",
    "            if (player['player'] == sub['player']) and (player['team'] == sub['team']):\n",
    "                player['time_played'] = sub['time']\n",
    "\n",
    "    match.update(shootout)\n",
    "\n",
    "    return match"
   ]
  },
  {
   "cell_type": "code",
   "execution_count": 12,
   "id": "8651e70c",
   "metadata": {
    "ExecuteTime": {
     "end_time": "2021-07-13T21:39:28.115740Z",
     "start_time": "2021-07-13T21:39:27.422008Z"
    }
   },
   "outputs": [
    {
     "data": {
      "text/plain": [
       "{'home_team': 'Italy',\n",
       " 'away_team': 'England',\n",
       " 'neutral': 'False',\n",
       " 'true_home': 'England',\n",
       " 'match_date': '2021-07-11',\n",
       " 'winner': 'home',\n",
       " 'shootout': [{'team': 'home',\n",
       "   'result': 'Scored',\n",
       "   'player': 'Domenico Berardi',\n",
       "   'player_href': '/domenico-berardi/leistungsdatendetails/spieler/177843/saison/2020/wettbewerb/EM20',\n",
       "   'time_played': 65},\n",
       "  {'team': 'away',\n",
       "   'result': 'Scored',\n",
       "   'player': 'Harry Kane',\n",
       "   'player_href': '/harry-kane/leistungsdatendetails/spieler/132098/saison/2020/wettbewerb/EM20',\n",
       "   'time_played': 120},\n",
       "  {'team': 'home',\n",
       "   'result': 'Saved',\n",
       "   'player': 'Andrea Belotti',\n",
       "   'player_href': '/andrea-belotti/leistungsdatendetails/spieler/167727/saison/2020/wettbewerb/EM20',\n",
       "   'time_played': 29},\n",
       "  {'team': 'away',\n",
       "   'result': 'Scored',\n",
       "   'player': 'Harry Maguire',\n",
       "   'player_href': '/harry-maguire/leistungsdatendetails/spieler/177907/saison/2020/wettbewerb/EM20',\n",
       "   'time_played': 120},\n",
       "  {'team': 'home',\n",
       "   'result': 'Scored',\n",
       "   'player': 'Leonardo Bonucci',\n",
       "   'player_href': '/leonardo-bonucci/leistungsdatendetails/spieler/39983/saison/2020/wettbewerb/EM20',\n",
       "   'time_played': 120},\n",
       "  {'team': 'away',\n",
       "   'result': 'Missed',\n",
       "   'player': 'Marcus Rashford',\n",
       "   'player_href': '/marcus-rashford/leistungsdatendetails/spieler/258923/saison/2020/wettbewerb/EM20',\n",
       "   'time_played': 0},\n",
       "  {'team': 'home',\n",
       "   'result': 'Scored',\n",
       "   'player': 'Federico Bernardeschi',\n",
       "   'player_href': '/federico-bernardeschi/leistungsdatendetails/spieler/197300/saison/2020/wettbewerb/EM20',\n",
       "   'time_played': 34},\n",
       "  {'team': 'away',\n",
       "   'result': 'Saved',\n",
       "   'player': 'Jadon Sancho',\n",
       "   'player_href': '/jadon-sancho/leistungsdatendetails/spieler/401173/saison/2020/wettbewerb/EM20',\n",
       "   'time_played': 0},\n",
       "  {'team': 'home',\n",
       "   'result': 'Saved',\n",
       "   'player': 'Jorginho',\n",
       "   'player_href': '/jorginho/leistungsdatendetails/spieler/102017/saison/2020/wettbewerb/EM20',\n",
       "   'time_played': 120},\n",
       "  {'team': 'away',\n",
       "   'result': 'Saved',\n",
       "   'player': 'Bukayo Saka',\n",
       "   'player_href': '/bukayo-saka/leistungsdatendetails/spieler/433177/saison/2020/wettbewerb/EM20',\n",
       "   'time_played': 49}]}"
      ]
     },
     "execution_count": 12,
     "metadata": {},
     "output_type": "execute_result"
    }
   ],
   "source": [
    "get_match(soup)"
   ]
  },
  {
   "cell_type": "markdown",
   "id": "d3b2f739",
   "metadata": {},
   "source": [
    "## Scraping competition pages\n",
    "**NOTE:** Results written to JSON file."
   ]
  },
  {
   "cell_type": "code",
   "execution_count": 13,
   "id": "e4b46e16",
   "metadata": {
    "ExecuteTime": {
     "end_time": "2021-07-13T21:39:32.907332Z",
     "start_time": "2021-07-13T21:39:32.904242Z"
    }
   },
   "outputs": [],
   "source": [
    "import json"
   ]
  },
  {
   "cell_type": "code",
   "execution_count": 14,
   "id": "7c7bdbb7",
   "metadata": {
    "ExecuteTime": {
     "end_time": "2021-07-13T21:39:34.586694Z",
     "start_time": "2021-07-13T21:39:34.582820Z"
    }
   },
   "outputs": [],
   "source": [
    "COMPS = [\n",
    "    ('euro_cup', 'https://www.transfermarkt.com/europameisterschaft-2020/elfmeterschiessen/pokalwettbewerb/EM20'),\n",
    "    ('copa_am', 'https://www.transfermarkt.com/copa-america-2021/elfmeterschiessen/pokalwettbewerb/CAM2'),\n",
    "    ('cl', 'https://www.transfermarkt.com/uefa-champions-league/elfmeterschiessen/pokalwettbewerb/CL'),\n",
    "    ('el', 'https://www.transfermarkt.com/europa-league/elfmeterschiessen/pokalwettbewerb/EL')\n",
    "]"
   ]
  },
  {
   "cell_type": "code",
   "execution_count": 15,
   "id": "4eef9ba5",
   "metadata": {
    "ExecuteTime": {
     "end_time": "2021-07-13T21:39:34.909905Z",
     "start_time": "2021-07-13T21:39:34.902027Z"
    }
   },
   "outputs": [],
   "source": [
    "def get_comp(comp):\n",
    "    '''\n",
    "    Function to get all penalty shootouts from a competition\n",
    "    '''\n",
    "    \n",
    "    comp_name = comp[0]\n",
    "    url = comp[1]\n",
    "    soup = get_soup(url)\n",
    "    rows = soup.find('table', attrs={'class': 'items'}).find('tbody').find_all('tr')\n",
    "\n",
    "    season = None\n",
    "    pks = []\n",
    "    for row in rows:\n",
    "        try:\n",
    "            row['class']\n",
    "            links = row.find_all('a')\n",
    "            match_round = links[0].text\n",
    "            link = links[3]['href']\n",
    "            pks.append({'season': season, 'match_round': match_round, 'link': link})\n",
    "        except:\n",
    "            season = row.find('a').text\n",
    "        \n",
    "    base_url = 'https://www.transfermarkt.com'\n",
    "    matches = []\n",
    "    for pk in pks:\n",
    "        match_soup = get_soup(base_url + pk['link'])\n",
    "        match = {\n",
    "            'comp': comp_name,\n",
    "            'season': pk['season'],\n",
    "            'match_round': pk['match_round'],\n",
    "            **get_match(match_soup)\n",
    "        }\n",
    "        matches.append(match)\n",
    "        \n",
    "    return matches"
   ]
  },
  {
   "cell_type": "markdown",
   "id": "36ef9062",
   "metadata": {},
   "source": [
    "### Euro Cup and Copa America - No issues"
   ]
  },
  {
   "cell_type": "code",
   "execution_count": 16,
   "id": "547de300",
   "metadata": {
    "ExecuteTime": {
     "end_time": "2021-07-13T21:39:36.214989Z",
     "start_time": "2021-07-13T21:39:36.211534Z"
    }
   },
   "outputs": [],
   "source": [
    "# for comp in COMPS[:2]:\n",
    "#     comp_name = comp[0]\n",
    "#     comp_data = get_comp(comp)\n",
    "#     with open(f'{comp_name}.json', 'w', encoding='utf-8') as f:\n",
    "#         json.dump(comp_data, f, ensure_ascii=False, indent=4)"
   ]
  },
  {
   "cell_type": "markdown",
   "id": "82bb28d1",
   "metadata": {},
   "source": [
    "### Champion's League\n",
    "Issue with missing substitute player names, ```get_subs``` function modified with ```try```/```except``` block."
   ]
  },
  {
   "cell_type": "code",
   "execution_count": 17,
   "id": "54e50893",
   "metadata": {
    "ExecuteTime": {
     "end_time": "2021-07-13T21:39:37.184366Z",
     "start_time": "2021-07-13T21:39:37.181707Z"
    }
   },
   "outputs": [],
   "source": [
    "# for comp in COMPS[2:3]:\n",
    "#     comp_name = comp[0]\n",
    "#     comp_data = get_comp(comp)\n",
    "#     with open(f'{comp_name}.json', 'w', encoding='utf-8') as f:\n",
    "#         json.dump(comp_data, f, ensure_ascii=False, indent=4)"
   ]
  },
  {
   "cell_type": "markdown",
   "id": "7858edca",
   "metadata": {},
   "source": [
    "### Europa League\n",
    "Issue with missing shootout data, ```get_penalty_so``` function modified with ```try```/```except``` block."
   ]
  },
  {
   "cell_type": "code",
   "execution_count": 18,
   "id": "470a488c",
   "metadata": {
    "ExecuteTime": {
     "end_time": "2021-07-13T21:43:04.161614Z",
     "start_time": "2021-07-13T21:40:13.150027Z"
    }
   },
   "outputs": [],
   "source": [
    "# for comp in COMPS[3:]:\n",
    "#     comp_name = comp[0]\n",
    "#     comp_data = get_comp(comp)\n",
    "#     with open(f'{comp_name}.json', 'w', encoding='utf-8') as f:\n",
    "#         json.dump(comp_data, f, ensure_ascii=False, indent=4)"
   ]
  },
  {
   "cell_type": "code",
   "execution_count": null,
   "id": "8035b04f",
   "metadata": {},
   "outputs": [],
   "source": []
  }
 ],
 "metadata": {
  "kernelspec": {
   "display_name": "data-scrape",
   "language": "python",
   "name": "data-scrape"
  },
  "language_info": {
   "codemirror_mode": {
    "name": "ipython",
    "version": 3
   },
   "file_extension": ".py",
   "mimetype": "text/x-python",
   "name": "python",
   "nbconvert_exporter": "python",
   "pygments_lexer": "ipython3",
   "version": "3.9.2"
  },
  "toc": {
   "base_numbering": 1,
   "nav_menu": {},
   "number_sections": false,
   "sideBar": true,
   "skip_h1_title": false,
   "title_cell": "Table of Contents",
   "title_sidebar": "Contents",
   "toc_cell": false,
   "toc_position": {},
   "toc_section_display": true,
   "toc_window_display": true
  }
 },
 "nbformat": 4,
 "nbformat_minor": 5
}
