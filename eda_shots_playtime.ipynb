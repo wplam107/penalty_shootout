{
 "cells": [
  {
   "cell_type": "markdown",
   "id": "e9a0427e",
   "metadata": {},
   "source": [
    "# EDA - Time Played and Penalty Shootouts"
   ]
  },
  {
   "cell_type": "code",
   "execution_count": 1,
   "id": "168b3ba3",
   "metadata": {
    "ExecuteTime": {
     "end_time": "2021-07-14T20:15:11.188486Z",
     "start_time": "2021-07-14T20:15:09.562066Z"
    }
   },
   "outputs": [],
   "source": [
    "import json\n",
    "import numpy as np\n",
    "import pandas as pd\n",
    "import matplotlib.pyplot as plt\n",
    "import seaborn as sns\n",
    "\n",
    "pd.options.mode.chained_assignment = None"
   ]
  },
  {
   "cell_type": "code",
   "execution_count": 2,
   "id": "99546f65",
   "metadata": {
    "ExecuteTime": {
     "end_time": "2021-07-14T20:15:11.216840Z",
     "start_time": "2021-07-14T20:15:11.191958Z"
    }
   },
   "outputs": [],
   "source": [
    "# Competitions\n",
    "COMPS = ['el', 'cl', 'copa_am', 'euro_cup', 'wc']\n",
    "\n",
    "# Load data from JSON files\n",
    "data = []\n",
    "for comp in COMPS:\n",
    "    with open(f'./data/{comp}.json', 'r') as f:\n",
    "        data += json.load(f)"
   ]
  },
  {
   "cell_type": "code",
   "execution_count": 3,
   "id": "29280439",
   "metadata": {
    "ExecuteTime": {
     "end_time": "2021-07-14T20:15:11.224494Z",
     "start_time": "2021-07-14T20:15:11.220750Z"
    }
   },
   "outputs": [],
   "source": [
    "# Aggregate data\n",
    "shots = []\n",
    "for datum in data:\n",
    "    shots.extend(datum['shootout'])"
   ]
  },
  {
   "cell_type": "code",
   "execution_count": 4,
   "id": "2d61d3e6",
   "metadata": {
    "ExecuteTime": {
     "end_time": "2021-07-14T20:15:11.237980Z",
     "start_time": "2021-07-14T20:15:11.229027Z"
    }
   },
   "outputs": [],
   "source": [
    "# DataFrame of all shots in major tournament penalty shootouts\n",
    "df = pd.DataFrame(shots)"
   ]
  },
  {
   "cell_type": "code",
   "execution_count": 5,
   "id": "5f086985",
   "metadata": {
    "ExecuteTime": {
     "end_time": "2021-07-14T20:15:11.255946Z",
     "start_time": "2021-07-14T20:15:11.242762Z"
    }
   },
   "outputs": [],
   "source": [
    "# Set negative time_played values to 0\n",
    "df['time_played'] = np.where(df['time_played'] < 0, 0, df['time_played'])"
   ]
  },
  {
   "cell_type": "code",
   "execution_count": 6,
   "id": "5f56ca12",
   "metadata": {
    "ExecuteTime": {
     "end_time": "2021-07-14T20:15:11.272134Z",
     "start_time": "2021-07-14T20:15:11.259727Z"
    }
   },
   "outputs": [],
   "source": [
    "# Engineer make or miss feature\n",
    "condlist = [(df['result'] == 'Scored'), (df['result'] == 'Missed'), (df['result'] == 'Saved')]\n",
    "choicelist = [True, False, False]\n",
    "df['made'] = np.select(condlist, choicelist)"
   ]
  },
  {
   "cell_type": "markdown",
   "id": "f78e6e41",
   "metadata": {},
   "source": [
    "## Summary statistics and initial analysis"
   ]
  },
  {
   "cell_type": "code",
   "execution_count": 22,
   "id": "020a4352",
   "metadata": {
    "ExecuteTime": {
     "end_time": "2021-07-14T20:17:14.904108Z",
     "start_time": "2021-07-14T20:17:14.886102Z"
    }
   },
   "outputs": [
    {
     "data": {
      "text/html": [
       "<div>\n",
       "<style scoped>\n",
       "    .dataframe tbody tr th:only-of-type {\n",
       "        vertical-align: middle;\n",
       "    }\n",
       "\n",
       "    .dataframe tbody tr th {\n",
       "        vertical-align: top;\n",
       "    }\n",
       "\n",
       "    .dataframe thead th {\n",
       "        text-align: right;\n",
       "    }\n",
       "</style>\n",
       "<table border=\"1\" class=\"dataframe\">\n",
       "  <thead>\n",
       "    <tr style=\"text-align: right;\">\n",
       "      <th></th>\n",
       "      <th>time_played</th>\n",
       "      <th>made</th>\n",
       "    </tr>\n",
       "  </thead>\n",
       "  <tbody>\n",
       "    <tr>\n",
       "      <th>count</th>\n",
       "      <td>2118.000000</td>\n",
       "      <td>2118.000000</td>\n",
       "    </tr>\n",
       "    <tr>\n",
       "      <th>mean</th>\n",
       "      <td>100.215297</td>\n",
       "      <td>0.729934</td>\n",
       "    </tr>\n",
       "    <tr>\n",
       "      <th>std</th>\n",
       "      <td>36.062324</td>\n",
       "      <td>0.444099</td>\n",
       "    </tr>\n",
       "    <tr>\n",
       "      <th>min</th>\n",
       "      <td>0.000000</td>\n",
       "      <td>0.000000</td>\n",
       "    </tr>\n",
       "    <tr>\n",
       "      <th>25%</th>\n",
       "      <td>114.750000</td>\n",
       "      <td>0.000000</td>\n",
       "    </tr>\n",
       "    <tr>\n",
       "      <th>50%</th>\n",
       "      <td>120.000000</td>\n",
       "      <td>1.000000</td>\n",
       "    </tr>\n",
       "    <tr>\n",
       "      <th>75%</th>\n",
       "      <td>120.000000</td>\n",
       "      <td>1.000000</td>\n",
       "    </tr>\n",
       "    <tr>\n",
       "      <th>max</th>\n",
       "      <td>120.000000</td>\n",
       "      <td>1.000000</td>\n",
       "    </tr>\n",
       "  </tbody>\n",
       "</table>\n",
       "</div>"
      ],
      "text/plain": [
       "       time_played         made\n",
       "count  2118.000000  2118.000000\n",
       "mean    100.215297     0.729934\n",
       "std      36.062324     0.444099\n",
       "min       0.000000     0.000000\n",
       "25%     114.750000     0.000000\n",
       "50%     120.000000     1.000000\n",
       "75%     120.000000     1.000000\n",
       "max     120.000000     1.000000"
      ]
     },
     "execution_count": 22,
     "metadata": {},
     "output_type": "execute_result"
    }
   ],
   "source": [
    "df.describe()"
   ]
  },
  {
   "cell_type": "code",
   "execution_count": 7,
   "id": "3102f0b7",
   "metadata": {
    "ExecuteTime": {
     "end_time": "2021-07-14T20:15:11.316512Z",
     "start_time": "2021-07-14T20:15:11.275664Z"
    }
   },
   "outputs": [
    {
     "data": {
      "text/html": [
       "<div>\n",
       "<style scoped>\n",
       "    .dataframe tbody tr th:only-of-type {\n",
       "        vertical-align: middle;\n",
       "    }\n",
       "\n",
       "    .dataframe tbody tr th {\n",
       "        vertical-align: top;\n",
       "    }\n",
       "\n",
       "    .dataframe thead th {\n",
       "        text-align: right;\n",
       "    }\n",
       "</style>\n",
       "<table border=\"1\" class=\"dataframe\">\n",
       "  <thead>\n",
       "    <tr style=\"text-align: right;\">\n",
       "      <th></th>\n",
       "      <th>count</th>\n",
       "      <th>mean</th>\n",
       "      <th>std</th>\n",
       "      <th>min</th>\n",
       "      <th>25%</th>\n",
       "      <th>50%</th>\n",
       "      <th>75%</th>\n",
       "      <th>max</th>\n",
       "    </tr>\n",
       "    <tr>\n",
       "      <th>result</th>\n",
       "      <th></th>\n",
       "      <th></th>\n",
       "      <th></th>\n",
       "      <th></th>\n",
       "      <th></th>\n",
       "      <th></th>\n",
       "      <th></th>\n",
       "      <th></th>\n",
       "    </tr>\n",
       "  </thead>\n",
       "  <tbody>\n",
       "    <tr>\n",
       "      <th>Missed</th>\n",
       "      <td>289.0</td>\n",
       "      <td>102.183391</td>\n",
       "      <td>35.613340</td>\n",
       "      <td>0.0</td>\n",
       "      <td>120.00</td>\n",
       "      <td>120.0</td>\n",
       "      <td>120.0</td>\n",
       "      <td>120.0</td>\n",
       "    </tr>\n",
       "    <tr>\n",
       "      <th>Saved</th>\n",
       "      <td>283.0</td>\n",
       "      <td>97.727915</td>\n",
       "      <td>37.575364</td>\n",
       "      <td>0.0</td>\n",
       "      <td>63.50</td>\n",
       "      <td>120.0</td>\n",
       "      <td>120.0</td>\n",
       "      <td>120.0</td>\n",
       "    </tr>\n",
       "    <tr>\n",
       "      <th>Scored</th>\n",
       "      <td>1546.0</td>\n",
       "      <td>100.302717</td>\n",
       "      <td>35.860448</td>\n",
       "      <td>0.0</td>\n",
       "      <td>114.75</td>\n",
       "      <td>120.0</td>\n",
       "      <td>120.0</td>\n",
       "      <td>120.0</td>\n",
       "    </tr>\n",
       "  </tbody>\n",
       "</table>\n",
       "</div>"
      ],
      "text/plain": [
       "         count        mean        std  min     25%    50%    75%    max\n",
       "result                                                                 \n",
       "Missed   289.0  102.183391  35.613340  0.0  120.00  120.0  120.0  120.0\n",
       "Saved    283.0   97.727915  37.575364  0.0   63.50  120.0  120.0  120.0\n",
       "Scored  1546.0  100.302717  35.860448  0.0  114.75  120.0  120.0  120.0"
      ]
     },
     "execution_count": 7,
     "metadata": {},
     "output_type": "execute_result"
    }
   ],
   "source": [
    "df.groupby('result')['time_played'].describe()"
   ]
  },
  {
   "cell_type": "code",
   "execution_count": 15,
   "id": "8e28f02c",
   "metadata": {
    "ExecuteTime": {
     "end_time": "2021-07-14T20:15:46.820251Z",
     "start_time": "2021-07-14T20:15:46.798195Z"
    }
   },
   "outputs": [
    {
     "data": {
      "text/html": [
       "<div>\n",
       "<style scoped>\n",
       "    .dataframe tbody tr th:only-of-type {\n",
       "        vertical-align: middle;\n",
       "    }\n",
       "\n",
       "    .dataframe tbody tr th {\n",
       "        vertical-align: top;\n",
       "    }\n",
       "\n",
       "    .dataframe thead th {\n",
       "        text-align: right;\n",
       "    }\n",
       "</style>\n",
       "<table border=\"1\" class=\"dataframe\">\n",
       "  <thead>\n",
       "    <tr style=\"text-align: right;\">\n",
       "      <th></th>\n",
       "      <th>count</th>\n",
       "      <th>mean</th>\n",
       "      <th>std</th>\n",
       "      <th>min</th>\n",
       "      <th>25%</th>\n",
       "      <th>50%</th>\n",
       "      <th>75%</th>\n",
       "      <th>max</th>\n",
       "    </tr>\n",
       "    <tr>\n",
       "      <th>made</th>\n",
       "      <th></th>\n",
       "      <th></th>\n",
       "      <th></th>\n",
       "      <th></th>\n",
       "      <th></th>\n",
       "      <th></th>\n",
       "      <th></th>\n",
       "      <th></th>\n",
       "    </tr>\n",
       "  </thead>\n",
       "  <tbody>\n",
       "    <tr>\n",
       "      <th>0</th>\n",
       "      <td>572.0</td>\n",
       "      <td>99.979021</td>\n",
       "      <td>36.633025</td>\n",
       "      <td>0.0</td>\n",
       "      <td>116.25</td>\n",
       "      <td>120.0</td>\n",
       "      <td>120.0</td>\n",
       "      <td>120.0</td>\n",
       "    </tr>\n",
       "    <tr>\n",
       "      <th>1</th>\n",
       "      <td>1546.0</td>\n",
       "      <td>100.302717</td>\n",
       "      <td>35.860448</td>\n",
       "      <td>0.0</td>\n",
       "      <td>114.75</td>\n",
       "      <td>120.0</td>\n",
       "      <td>120.0</td>\n",
       "      <td>120.0</td>\n",
       "    </tr>\n",
       "  </tbody>\n",
       "</table>\n",
       "</div>"
      ],
      "text/plain": [
       "       count        mean        std  min     25%    50%    75%    max\n",
       "made                                                                 \n",
       "0      572.0   99.979021  36.633025  0.0  116.25  120.0  120.0  120.0\n",
       "1     1546.0  100.302717  35.860448  0.0  114.75  120.0  120.0  120.0"
      ]
     },
     "execution_count": 15,
     "metadata": {},
     "output_type": "execute_result"
    }
   ],
   "source": [
    "df.groupby('made')['time_played'].describe()"
   ]
  },
  {
   "cell_type": "markdown",
   "id": "9d048501",
   "metadata": {},
   "source": [
    "### Class imbalance and substitute playing time\n",
    "#### The vast majority of penalty kick takers have played the entire match"
   ]
  },
  {
   "cell_type": "code",
   "execution_count": 16,
   "id": "9c6f92f8",
   "metadata": {
    "ExecuteTime": {
     "end_time": "2021-07-14T20:16:18.809331Z",
     "start_time": "2021-07-14T20:16:18.574196Z"
    }
   },
   "outputs": [
    {
     "data": {
      "image/png": "[encoded data removed]",
      "text/plain": [
       "<Figure size 432x288 with 1 Axes>"
      ]
     },
     "metadata": {
      "needs_background": "light"
     },
     "output_type": "display_data"
    }
   ],
   "source": [
    "sns.histplot(x='time_played', data=df, bins=12)\n",
    "plt.title('Count of Penalty Takers by Minutes Played')\n",
    "plt.show()"
   ]
  },
  {
   "cell_type": "markdown",
   "id": "c4beea6f",
   "metadata": {},
   "source": [
    "#### Most substitutions seem to occur around the 60th minute onward"
   ]
  },
  {
   "cell_type": "code",
   "execution_count": 17,
   "id": "8411b510",
   "metadata": {
    "ExecuteTime": {
     "end_time": "2021-07-14T20:16:27.744164Z",
     "start_time": "2021-07-14T20:16:27.738761Z"
    }
   },
   "outputs": [],
   "source": [
    "# Create separate substitutes DataFrame\n",
    "subs = df.loc[df['time_played'] < 120]\n",
    "subs['subbed_on'] = 120 - subs['time_played']"
   ]
  },
  {
   "cell_type": "code",
   "execution_count": 18,
   "id": "a7c1a219",
   "metadata": {
    "ExecuteTime": {
     "end_time": "2021-07-14T20:16:27.965169Z",
     "start_time": "2021-07-14T20:16:27.941434Z"
    }
   },
   "outputs": [
    {
     "data": {
      "text/html": [
       "<div>\n",
       "<style scoped>\n",
       "    .dataframe tbody tr th:only-of-type {\n",
       "        vertical-align: middle;\n",
       "    }\n",
       "\n",
       "    .dataframe tbody tr th {\n",
       "        vertical-align: top;\n",
       "    }\n",
       "\n",
       "    .dataframe thead th {\n",
       "        text-align: right;\n",
       "    }\n",
       "</style>\n",
       "<table border=\"1\" class=\"dataframe\">\n",
       "  <thead>\n",
       "    <tr style=\"text-align: right;\">\n",
       "      <th></th>\n",
       "      <th>time_played</th>\n",
       "      <th>made</th>\n",
       "      <th>subbed_on</th>\n",
       "    </tr>\n",
       "  </thead>\n",
       "  <tbody>\n",
       "    <tr>\n",
       "      <th>count</th>\n",
       "      <td>530.000000</td>\n",
       "      <td>530.000000</td>\n",
       "      <td>530.000000</td>\n",
       "    </tr>\n",
       "    <tr>\n",
       "      <th>mean</th>\n",
       "      <td>40.935849</td>\n",
       "      <td>0.730189</td>\n",
       "      <td>79.064151</td>\n",
       "    </tr>\n",
       "    <tr>\n",
       "      <th>std</th>\n",
       "      <td>22.554023</td>\n",
       "      <td>0.444281</td>\n",
       "      <td>22.554023</td>\n",
       "    </tr>\n",
       "    <tr>\n",
       "      <th>min</th>\n",
       "      <td>0.000000</td>\n",
       "      <td>0.000000</td>\n",
       "      <td>7.000000</td>\n",
       "    </tr>\n",
       "    <tr>\n",
       "      <th>25%</th>\n",
       "      <td>23.000000</td>\n",
       "      <td>0.000000</td>\n",
       "      <td>63.000000</td>\n",
       "    </tr>\n",
       "    <tr>\n",
       "      <th>50%</th>\n",
       "      <td>41.000000</td>\n",
       "      <td>1.000000</td>\n",
       "      <td>79.000000</td>\n",
       "    </tr>\n",
       "    <tr>\n",
       "      <th>75%</th>\n",
       "      <td>57.000000</td>\n",
       "      <td>1.000000</td>\n",
       "      <td>97.000000</td>\n",
       "    </tr>\n",
       "    <tr>\n",
       "      <th>max</th>\n",
       "      <td>113.000000</td>\n",
       "      <td>1.000000</td>\n",
       "      <td>120.000000</td>\n",
       "    </tr>\n",
       "  </tbody>\n",
       "</table>\n",
       "</div>"
      ],
      "text/plain": [
       "       time_played        made   subbed_on\n",
       "count   530.000000  530.000000  530.000000\n",
       "mean     40.935849    0.730189   79.064151\n",
       "std      22.554023    0.444281   22.554023\n",
       "min       0.000000    0.000000    7.000000\n",
       "25%      23.000000    0.000000   63.000000\n",
       "50%      41.000000    1.000000   79.000000\n",
       "75%      57.000000    1.000000   97.000000\n",
       "max     113.000000    1.000000  120.000000"
      ]
     },
     "execution_count": 18,
     "metadata": {},
     "output_type": "execute_result"
    }
   ],
   "source": [
    "subs.describe()"
   ]
  },
  {
   "cell_type": "code",
   "execution_count": 19,
   "id": "dd9c1a69",
   "metadata": {
    "ExecuteTime": {
     "end_time": "2021-07-14T20:16:28.497700Z",
     "start_time": "2021-07-14T20:16:28.219037Z"
    }
   },
   "outputs": [
    {
     "data": {
      "image/png": "[encoded data removed]",
      "text/plain": [
       "<Figure size 432x288 with 1 Axes>"
      ]
     },
     "metadata": {
      "needs_background": "light"
     },
     "output_type": "display_data"
    }
   ],
   "source": [
    "sns.histplot(x='time_played', data=subs, bins=range(0, 120, 10))\n",
    "plt.title('Count by Time Played')\n",
    "plt.xlabel('Time Played (min)')\n",
    "plt.ylabel('Number of Penalty Takers')\n",
    "plt.show()"
   ]
  },
  {
   "cell_type": "code",
   "execution_count": 20,
   "id": "d6cd4816",
   "metadata": {
    "ExecuteTime": {
     "end_time": "2021-07-14T20:16:29.014701Z",
     "start_time": "2021-07-14T20:16:28.789427Z"
    }
   },
   "outputs": [
    {
     "data": {
      "image/png": "[encoded data removed]",
      "text/plain": [
       "<Figure size 432x288 with 1 Axes>"
      ]
     },
     "metadata": {
      "needs_background": "light"
     },
     "output_type": "display_data"
    }
   ],
   "source": [
    "sns.histplot(x='subbed_on', data=subs, bins=range(0, 121, 10))\n",
    "plt.title('Count by Minute Subbed On')\n",
    "plt.xlabel('Sub Time (minute in match)')\n",
    "plt.ylabel('Number of Penalty Takers')\n",
    "plt.show()"
   ]
  },
  {
   "cell_type": "markdown",
   "id": "6750c75c",
   "metadata": {},
   "source": [
    "### Evaluating substitutes"
   ]
  },
  {
   "cell_type": "code",
   "execution_count": 153,
   "id": "bf4ee6ab",
   "metadata": {
    "ExecuteTime": {
     "end_time": "2021-07-14T21:40:10.136640Z",
     "start_time": "2021-07-14T21:40:10.125578Z"
    }
   },
   "outputs": [],
   "source": [
    "# Decile cut of substitution times\n",
    "subs['q_sub'] = pd.qcut(subs['subbed_on'], q=10)\n",
    "temp = subs.groupby('q_sub')['made'].mean().reset_index()"
   ]
  },
  {
   "cell_type": "code",
   "execution_count": 154,
   "id": "695610b4",
   "metadata": {
    "ExecuteTime": {
     "end_time": "2021-07-14T21:40:10.418616Z",
     "start_time": "2021-07-14T21:40:10.413241Z"
    }
   },
   "outputs": [],
   "source": [
    "def colors_from_values(values, palette_name): # https://stackoverflow.com/a/60917129\n",
    "    # normalize the values to range [0, 1]\n",
    "    normalized = (values - min(values)) / (max(values) - min(values))\n",
    "    # convert to indices\n",
    "    indices = np.round(normalized * (len(values) - 1)).astype(np.int32)\n",
    "    # use the indices to get the colors\n",
    "    palette = sns.color_palette(palette_name, len(values))\n",
    "    return np.array(palette).take(indices, axis=0)"
   ]
  },
  {
   "cell_type": "markdown",
   "id": "3bb41713",
   "metadata": {},
   "source": [
    "#### Observation\n",
    "Players subbed on in the last decile (subbed on in the 109-120th minute) of an added extra time match seem to perform the worst in penalty kick shootouts."
   ]
  },
  {
   "cell_type": "code",
   "execution_count": 156,
   "id": "d5de8429",
   "metadata": {
    "ExecuteTime": {
     "end_time": "2021-07-14T21:44:49.326293Z",
     "start_time": "2021-07-14T21:44:49.051535Z"
    }
   },
   "outputs": [
    {
     "data": {
      "image/png": "[encoded data removed]",
      "text/plain": [
       "<Figure size 432x288 with 1 Axes>"
      ]
     },
     "metadata": {
      "needs_background": "light"
     },
     "output_type": "display_data"
    }
   ],
   "source": [
    "sns.barplot(x='q_sub', y='made', data=temp, palette=colors_from_values(temp['made'], 'YlOrRd'))\n",
    "plt.xticks(rotation=65)\n",
    "plt.title('% Made by Deciles of Time Subbed On')\n",
    "plt.xlabel('Time Subbed On Deciles (min)')\n",
    "plt.ylabel('% Made')\n",
    "plt.show()"
   ]
  },
  {
   "cell_type": "code",
   "execution_count": null,
   "id": "5c9cdec7",
   "metadata": {},
   "outputs": [],
   "source": []
  },
  {
   "cell_type": "code",
   "execution_count": null,
   "id": "5a666e8b",
   "metadata": {},
   "outputs": [],
   "source": []
  },
  {
   "cell_type": "code",
   "execution_count": null,
   "id": "472e7772",
   "metadata": {},
   "outputs": [],
   "source": []
  },
  {
   "cell_type": "code",
   "execution_count": null,
   "id": "84d0163c",
   "metadata": {},
   "outputs": [],
   "source": []
  }
 ],
 "metadata": {
  "kernelspec": {
   "display_name": "eda_env",
   "language": "python",
   "name": "eda_env"
  },
  "language_info": {
   "codemirror_mode": {
    "name": "ipython",
    "version": 3
   },
   "file_extension": ".py",
   "mimetype": "text/x-python",
   "name": "python",
   "nbconvert_exporter": "python",
   "pygments_lexer": "ipython3",
   "version": "3.9.1"
  },
  "toc": {
   "base_numbering": 1,
   "nav_menu": {},
   "number_sections": false,
   "sideBar": true,
   "skip_h1_title": false,
   "title_cell": "Table of Contents",
   "title_sidebar": "Contents",
   "toc_cell": false,
   "toc_position": {},
   "toc_section_display": true,
   "toc_window_display": false
  }
 },
 "nbformat": 4,
 "nbformat_minor": 5
}
